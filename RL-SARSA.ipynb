{
  "nbformat": 4,
  "nbformat_minor": 0,
  "metadata": {
    "colab": {
      "provenance": []
    },
    "kernelspec": {
      "name": "python3",
      "display_name": "Python 3"
    },
    "language_info": {
      "name": "python"
    }
  },
  "cells": [
    {
      "cell_type": "code",
      "source": [
        "!conda create -n sarsa python=3.9 -y\n",
        "!conda activate sarsa\n",
        "!pip install \"gymnasium[atari]\" numpy matplotlib\n",
        "!pip install autorom[accept-rom-license]  # Downloading Gym env data files\n",
        "!AutoROM --accept-license  # Accepting the license for data files\n",
        "!pip install ipykernel  # Install Jupyter kernel manager\n",
        "!ipython kernel install --user --name=sarsa  # Add the new Conda env to Jupyter"
      ],
      "metadata": {
        "colab": {
          "base_uri": "https://localhost:8080/"
        },
        "id": "FpXvd1KYCHmx",
        "outputId": "d8ae4a82-910e-478c-d187-dff0bcd64f25"
      },
      "execution_count": 85,
      "outputs": [
        {
          "output_type": "stream",
          "name": "stdout",
          "text": [
            "/bin/bash: line 1: conda: command not found\n",
            "/bin/bash: line 1: conda: command not found\n",
            "Requirement already satisfied: numpy in /usr/local/lib/python3.11/dist-packages (1.26.4)\n",
            "Requirement already satisfied: matplotlib in /usr/local/lib/python3.11/dist-packages (3.10.0)\n",
            "Requirement already satisfied: gymnasium[atari] in /usr/local/lib/python3.11/dist-packages (1.0.0)\n",
            "Requirement already satisfied: cloudpickle>=1.2.0 in /usr/local/lib/python3.11/dist-packages (from gymnasium[atari]) (3.1.0)\n",
            "Requirement already satisfied: typing-extensions>=4.3.0 in /usr/local/lib/python3.11/dist-packages (from gymnasium[atari]) (4.12.2)\n",
            "Requirement already satisfied: farama-notifications>=0.0.1 in /usr/local/lib/python3.11/dist-packages (from gymnasium[atari]) (0.0.4)\n",
            "Requirement already satisfied: ale-py>=0.9 in /usr/local/lib/python3.11/dist-packages (from gymnasium[atari]) (0.10.1)\n",
            "Requirement already satisfied: contourpy>=1.0.1 in /usr/local/lib/python3.11/dist-packages (from matplotlib) (1.3.1)\n",
            "Requirement already satisfied: cycler>=0.10 in /usr/local/lib/python3.11/dist-packages (from matplotlib) (0.12.1)\n",
            "Requirement already satisfied: fonttools>=4.22.0 in /usr/local/lib/python3.11/dist-packages (from matplotlib) (4.55.3)\n",
            "Requirement already satisfied: kiwisolver>=1.3.1 in /usr/local/lib/python3.11/dist-packages (from matplotlib) (1.4.8)\n",
            "Requirement already satisfied: packaging>=20.0 in /usr/local/lib/python3.11/dist-packages (from matplotlib) (24.2)\n",
            "Requirement already satisfied: pillow>=8 in /usr/local/lib/python3.11/dist-packages (from matplotlib) (11.1.0)\n",
            "Requirement already satisfied: pyparsing>=2.3.1 in /usr/local/lib/python3.11/dist-packages (from matplotlib) (3.2.1)\n",
            "Requirement already satisfied: python-dateutil>=2.7 in /usr/local/lib/python3.11/dist-packages (from matplotlib) (2.8.2)\n",
            "Requirement already satisfied: six>=1.5 in /usr/local/lib/python3.11/dist-packages (from python-dateutil>=2.7->matplotlib) (1.17.0)\n",
            "Requirement already satisfied: autorom[accept-rom-license] in /usr/local/lib/python3.11/dist-packages (0.6.1)\n",
            "Requirement already satisfied: click in /usr/local/lib/python3.11/dist-packages (from autorom[accept-rom-license]) (8.1.8)\n",
            "Requirement already satisfied: requests in /usr/local/lib/python3.11/dist-packages (from autorom[accept-rom-license]) (2.32.3)\n",
            "Requirement already satisfied: AutoROM.accept-rom-license in /usr/local/lib/python3.11/dist-packages (from autorom[accept-rom-license]) (0.6.1)\n",
            "Requirement already satisfied: charset-normalizer<4,>=2 in /usr/local/lib/python3.11/dist-packages (from requests->autorom[accept-rom-license]) (3.4.1)\n",
            "Requirement already satisfied: idna<4,>=2.5 in /usr/local/lib/python3.11/dist-packages (from requests->autorom[accept-rom-license]) (3.10)\n",
            "Requirement already satisfied: urllib3<3,>=1.21.1 in /usr/local/lib/python3.11/dist-packages (from requests->autorom[accept-rom-license]) (2.3.0)\n",
            "Requirement already satisfied: certifi>=2017.4.17 in /usr/local/lib/python3.11/dist-packages (from requests->autorom[accept-rom-license]) (2024.12.14)\n",
            "AutoROM will download the Atari 2600 ROMs.\n",
            "They will be installed to:\n",
            "\t/usr/local/lib/python3.11/dist-packages/AutoROM/roms\n",
            "\n",
            "Existing ROMs will be overwritten.\n",
            "Requirement already satisfied: ipykernel in /usr/local/lib/python3.11/dist-packages (5.5.6)\n",
            "Requirement already satisfied: ipython-genutils in /usr/local/lib/python3.11/dist-packages (from ipykernel) (0.2.0)\n",
            "Requirement already satisfied: ipython>=5.0.0 in /usr/local/lib/python3.11/dist-packages (from ipykernel) (7.34.0)\n",
            "Requirement already satisfied: traitlets>=4.1.0 in /usr/local/lib/python3.11/dist-packages (from ipykernel) (5.7.1)\n",
            "Requirement already satisfied: jupyter-client in /usr/local/lib/python3.11/dist-packages (from ipykernel) (6.1.12)\n",
            "Requirement already satisfied: tornado>=4.2 in /usr/local/lib/python3.11/dist-packages (from ipykernel) (6.3.3)\n",
            "Requirement already satisfied: setuptools>=18.5 in /usr/local/lib/python3.11/dist-packages (from ipython>=5.0.0->ipykernel) (75.1.0)\n",
            "Requirement already satisfied: jedi>=0.16 in /usr/local/lib/python3.11/dist-packages (from ipython>=5.0.0->ipykernel) (0.19.2)\n",
            "Requirement already satisfied: decorator in /usr/local/lib/python3.11/dist-packages (from ipython>=5.0.0->ipykernel) (4.4.2)\n",
            "Requirement already satisfied: pickleshare in /usr/local/lib/python3.11/dist-packages (from ipython>=5.0.0->ipykernel) (0.7.5)\n",
            "Requirement already satisfied: prompt-toolkit!=3.0.0,!=3.0.1,<3.1.0,>=2.0.0 in /usr/local/lib/python3.11/dist-packages (from ipython>=5.0.0->ipykernel) (3.0.48)\n",
            "Requirement already satisfied: pygments in /usr/local/lib/python3.11/dist-packages (from ipython>=5.0.0->ipykernel) (2.18.0)\n",
            "Requirement already satisfied: backcall in /usr/local/lib/python3.11/dist-packages (from ipython>=5.0.0->ipykernel) (0.2.0)\n",
            "Requirement already satisfied: matplotlib-inline in /usr/local/lib/python3.11/dist-packages (from ipython>=5.0.0->ipykernel) (0.1.7)\n",
            "Requirement already satisfied: pexpect>4.3 in /usr/local/lib/python3.11/dist-packages (from ipython>=5.0.0->ipykernel) (4.9.0)\n",
            "Requirement already satisfied: jupyter-core>=4.6.0 in /usr/local/lib/python3.11/dist-packages (from jupyter-client->ipykernel) (5.7.2)\n",
            "Requirement already satisfied: pyzmq>=13 in /usr/local/lib/python3.11/dist-packages (from jupyter-client->ipykernel) (24.0.1)\n",
            "Requirement already satisfied: python-dateutil>=2.1 in /usr/local/lib/python3.11/dist-packages (from jupyter-client->ipykernel) (2.8.2)\n",
            "Requirement already satisfied: parso<0.9.0,>=0.8.4 in /usr/local/lib/python3.11/dist-packages (from jedi>=0.16->ipython>=5.0.0->ipykernel) (0.8.4)\n",
            "Requirement already satisfied: platformdirs>=2.5 in /usr/local/lib/python3.11/dist-packages (from jupyter-core>=4.6.0->jupyter-client->ipykernel) (4.3.6)\n",
            "Requirement already satisfied: ptyprocess>=0.5 in /usr/local/lib/python3.11/dist-packages (from pexpect>4.3->ipython>=5.0.0->ipykernel) (0.7.0)\n",
            "Requirement already satisfied: wcwidth in /usr/local/lib/python3.11/dist-packages (from prompt-toolkit!=3.0.0,!=3.0.1,<3.1.0,>=2.0.0->ipython>=5.0.0->ipykernel) (0.2.13)\n",
            "Requirement already satisfied: six>=1.5 in /usr/local/lib/python3.11/dist-packages (from python-dateutil>=2.1->jupyter-client->ipykernel) (1.17.0)\n",
            "Installed kernelspec sarsa in /root/.local/share/jupyter/kernels/sarsa\n"
          ]
        }
      ]
    },
    {
      "cell_type": "code",
      "execution_count": 86,
      "metadata": {
        "id": "5JCcOsXBs28t"
      },
      "outputs": [],
      "source": [
        "# import numpy as np\n",
        "# import pandas as pd\n",
        "# import gymnasium as gym\n",
        "# env = gym.make('Taxi-v3', render_mode='rgb_array')"
      ]
    },
    {
      "cell_type": "code",
      "source": [
        "# import matplotlib.pyplot as plt\n",
        "# initial_state, _ = env.reset()\n",
        "# # Render the initial state\n",
        "# img = env.render()\n",
        "# # Create a figure and display the environment\n",
        "# fig, ax = plt.subplots(figsize=(8, 8))\n",
        "# ax.imshow(img)\n",
        "# # Remove axis ticks\n",
        "# ax.set_xticks([])\n",
        "# ax.set_yticks([]);"
      ],
      "metadata": {
        "id": "sblNApTOGKpg"
      },
      "execution_count": 87,
      "outputs": []
    },
    {
      "cell_type": "markdown",
      "source": [
        "# SARSA Interaction loop"
      ],
      "metadata": {
        "id": "8cOK1M6hL_5L"
      }
    },
    {
      "cell_type": "code",
      "source": [
        "# # The number of states and actions\n",
        "# n_states = env.observation_space.n\n",
        "# n_actions = env.action_space.n\n",
        "# print(n_states)\n",
        "# print(n_actions)"
      ],
      "metadata": {
        "id": "CDMCEcPCGg28"
      },
      "execution_count": 88,
      "outputs": []
    },
    {
      "cell_type": "code",
      "source": [
        "# n_episodes = 5000"
      ],
      "metadata": {
        "id": "scu47XSi_Shk"
      },
      "execution_count": 89,
      "outputs": []
    },
    {
      "cell_type": "code",
      "source": [
        "# for episodes in range(n_episodes):\n",
        "#     state, _ = env.reset()\n",
        "#     done = False\n",
        "#     total_reward = 0\n",
        "#     steps = 0\n",
        "#     while not done:\n",
        "#         action = env.action_space.sample() #random action initialization\n",
        "#         next_state, reward, terminated, truncated, _ = env.step(action) #take action and observe the result        done = terminated or truncated\n",
        "#         done = terminated or truncated\n",
        "#         total_reward += reward\n",
        "#         steps += 1\n",
        "#         state = next_state\n",
        "#     if episodes % 100 == 0:\n",
        "#         print(f\"Episode: {episodes+1}, Total Reward: {total_reward}, Steps: {steps}\")"
      ],
      "metadata": {
        "id": "bbExvhCwCba5"
      },
      "execution_count": 90,
      "outputs": []
    },
    {
      "cell_type": "markdown",
      "source": [
        "# animating the sarsa loop"
      ],
      "metadata": {
        "id": "vSvg80zaJWCl"
      }
    },
    {
      "cell_type": "code",
      "source": [
        "# env = gym.make('Taxi-v3', render_mode='rgb_array')\n",
        "# n_episodes = 2\n",
        "# frames = []\n",
        "# for episodes in range(n_episodes):\n",
        "#     state, _ = env.reset()\n",
        "#     img = env.render()\n",
        "#     frames.append(img)\n",
        "#     done = False\n",
        "#     total_reward = 0\n",
        "#     steps = 0\n",
        "#     while not done:\n",
        "#         action = env.action_space.sample()\n",
        "#         next_state, reward, terminated, truncated, _ = env.step(action)\n",
        "#         done = terminated or truncated\n",
        "#         img = env.render()\n",
        "#         frames.append(img)\n",
        "#         total_reward += reward\n",
        "#         steps += 1\n",
        "#         state = next_state\n",
        "#     if episodes % 2== 0:\n",
        "#         print(f\"Episode: {episodes+1}, Total Reward: {total_reward}, Steps: {steps}\")"
      ],
      "metadata": {
        "id": "cLp1MazqMVqf"
      },
      "execution_count": 91,
      "outputs": []
    },
    {
      "cell_type": "markdown",
      "source": [
        "# AFter taking images of states and storing them in frames list, lets now turn them to GIF using moviepy library"
      ],
      "metadata": {
        "id": "D4nm0vnjOp1j"
      }
    },
    {
      "cell_type": "code",
      "source": [
        "!pip install moviepy"
      ],
      "metadata": {
        "colab": {
          "base_uri": "https://localhost:8080/"
        },
        "id": "DZi3y1pEPWhQ",
        "outputId": "731fccf9-aff8-4b42-af65-8df8b678e333"
      },
      "execution_count": 92,
      "outputs": [
        {
          "output_type": "stream",
          "name": "stdout",
          "text": [
            "Requirement already satisfied: moviepy in /usr/local/lib/python3.11/dist-packages (1.0.3)\n",
            "Requirement already satisfied: decorator<5.0,>=4.0.2 in /usr/local/lib/python3.11/dist-packages (from moviepy) (4.4.2)\n",
            "Requirement already satisfied: imageio<3.0,>=2.5 in /usr/local/lib/python3.11/dist-packages (from moviepy) (2.36.1)\n",
            "Requirement already satisfied: imageio_ffmpeg>=0.2.0 in /usr/local/lib/python3.11/dist-packages (from moviepy) (0.5.1)\n",
            "Requirement already satisfied: tqdm<5.0,>=4.11.2 in /usr/local/lib/python3.11/dist-packages (from moviepy) (4.67.1)\n",
            "Requirement already satisfied: numpy>=1.17.3 in /usr/local/lib/python3.11/dist-packages (from moviepy) (1.26.4)\n",
            "Requirement already satisfied: requests<3.0,>=2.8.1 in /usr/local/lib/python3.11/dist-packages (from moviepy) (2.32.3)\n",
            "Requirement already satisfied: proglog<=1.0.0 in /usr/local/lib/python3.11/dist-packages (from moviepy) (0.1.10)\n",
            "Requirement already satisfied: pillow>=8.3.2 in /usr/local/lib/python3.11/dist-packages (from imageio<3.0,>=2.5->moviepy) (11.1.0)\n",
            "Requirement already satisfied: setuptools in /usr/local/lib/python3.11/dist-packages (from imageio_ffmpeg>=0.2.0->moviepy) (75.1.0)\n",
            "Requirement already satisfied: charset-normalizer<4,>=2 in /usr/local/lib/python3.11/dist-packages (from requests<3.0,>=2.8.1->moviepy) (3.4.1)\n",
            "Requirement already satisfied: idna<4,>=2.5 in /usr/local/lib/python3.11/dist-packages (from requests<3.0,>=2.8.1->moviepy) (3.10)\n",
            "Requirement already satisfied: urllib3<3,>=1.21.1 in /usr/local/lib/python3.11/dist-packages (from requests<3.0,>=2.8.1->moviepy) (2.3.0)\n",
            "Requirement already satisfied: certifi>=2017.4.17 in /usr/local/lib/python3.11/dist-packages (from requests<3.0,>=2.8.1->moviepy) (2024.12.14)\n"
          ]
        }
      ]
    },
    {
      "cell_type": "code",
      "source": [
        "# from moviepy.editor import ImageSequenceClip\n",
        "# def create_gif(frames: list, filename, fps = 5):\n",
        "#     \"\"\"\n",
        "#     creates the GIF animation from a list of numpy arrays (frames)\n",
        "#     args:\n",
        "#         frames: list of numpy arrays\n",
        "#         filename: name of the GIF file\n",
        "#         fps: frames per second\n",
        "#     \"\"\"\n",
        "#     clip = ImageSequenceClip(frames, fps=fps)\n",
        "#     clip.write_gif(filename, fps=fps)\n",
        "\n",
        "# #test\n",
        "# create_gif(frames, 'sarsa.gif', fps=10)"
      ],
      "metadata": {
        "id": "VqicGh0PPJxC"
      },
      "execution_count": 93,
      "outputs": []
    },
    {
      "cell_type": "code",
      "source": [],
      "metadata": {
        "id": "KO16Al1xQP4O"
      },
      "execution_count": 93,
      "outputs": []
    },
    {
      "cell_type": "markdown",
      "source": [
        "# Implementing the SARSA with an epsilon greedy strategy for taking action rather than taking only a random action(exploration) like before. Now the agent will explore with a probability of `1-epsilon` and take actions based on best learned Q-values in the Q-table (exploitation based on current knowledge) with probability `epsilon`"
      ],
      "metadata": {
        "id": "1kI-8pSjRXi5"
      }
    },
    {
      "cell_type": "markdown",
      "source": [
        "## 1. Setting the Gymnasium environment"
      ],
      "metadata": {
        "id": "E9AY_jwfVvMj"
      }
    },
    {
      "cell_type": "code",
      "source": [
        "import gymnasium as gym\n",
        "import numpy as np\n",
        "import matplotlib.pyplot as plt\n",
        "from moviepy.editor import ImageSequenceClip"
      ],
      "metadata": {
        "id": "zZc9p49CVaGL"
      },
      "execution_count": 94,
      "outputs": []
    },
    {
      "cell_type": "code",
      "source": [
        "def create_environment(env_name = \"Taxi-v3\", render_mode = \"rgb_array\"):\n",
        "    env = gym.make(env_name, render_mode=render_mode)\n",
        "    return env"
      ],
      "metadata": {
        "id": "9YF2p4aVN9q0"
      },
      "execution_count": 95,
      "outputs": []
    },
    {
      "cell_type": "markdown",
      "source": [
        "## 2. Initializing a Q-table"
      ],
      "metadata": {
        "id": "LFB46ArqVuBw"
      }
    },
    {
      "cell_type": "code",
      "source": [
        "# initialize a Q-table\n",
        "def initialize_q_table(env):\n",
        "    n_states = env.observation_space.n\n",
        "    n_actions = env.action_space.n\n",
        "    Q_table = np.zeros((n_states, n_actions))\n",
        "    return Q_table"
      ],
      "metadata": {
        "id": "Nfo3_VyeWB5D"
      },
      "execution_count": 96,
      "outputs": []
    },
    {
      "cell_type": "markdown",
      "source": [
        "# 3. Epsilon-greedy policy for taking action"
      ],
      "metadata": {
        "id": "njpKT0q2nmxL"
      }
    },
    {
      "cell_type": "code",
      "source": [
        "def epsilon_greedy(env, Q_table, state, epsilon=0.1):\n",
        "    if np.random.random() < epsilon:\n",
        "        # Take a random action ie explore\n",
        "        return env.action_space.sample()\n",
        "    else:\n",
        "      # Take action with highest Q-value ie exploitation\n",
        "      return np.argmax(Q_table[state])"
      ],
      "metadata": {
        "id": "kl2EmmZXnviy"
      },
      "execution_count": 97,
      "outputs": []
    },
    {
      "cell_type": "markdown",
      "source": [
        "# 4. SARSA training"
      ],
      "metadata": {
        "id": "xgiN82dOouRt"
      }
    },
    {
      "cell_type": "code",
      "source": [
        "def sarsa_update(Q_table, state, action, reward, next_state, next_action, alpha, gamma):\n",
        "   Q_table[state, action] += alpha * (\n",
        "       reward + gamma * Q_table[next_state, next_action] - Q_table[state, action]\n",
        "   )"
      ],
      "metadata": {
        "id": "DLxyL-FYOr4B"
      },
      "execution_count": 98,
      "outputs": []
    },
    {
      "cell_type": "code",
      "source": [
        "# SARSA training\n",
        "def train_sarsa(env, n_episodes = 20000, alpha= 0.1, gamma=0.99, epsilon=0.1):\n",
        "\n",
        "    Q_table = initialize_q_table(env)\n",
        "    episode_rewards = []\n",
        "    episode_lengths = []\n",
        "\n",
        "    for episode in range(n_episodes):\n",
        "        state, _ = env.reset()\n",
        "        action = epsilon_greedy(env, Q_table, state, epsilon)\n",
        "        done = False\n",
        "        total_reward = 0\n",
        "        steps = 0\n",
        "        while not done:\n",
        "            next_state, reward, terminated, truncated, _ = env.step(action)\n",
        "            done = terminated or truncated\n",
        "            next_action = epsilon_greedy(env, Q_table, next_state, epsilon)\n",
        "            sarsa_update(Q_table, state, action, reward, next_state, next_action, alpha, gamma)\n",
        "            state = next_state\n",
        "            action = next_action\n",
        "            total_reward += reward\n",
        "            steps += 1\n",
        "        episode_rewards.append(total_reward)\n",
        "        episode_lengths.append(steps)\n",
        "    return Q_table, episode_rewards, episode_lengths"
      ],
      "metadata": {
        "id": "ETQG-qYoo3Hu"
      },
      "execution_count": 113,
      "outputs": []
    },
    {
      "cell_type": "code",
      "source": [
        "# Plotting the learning curve\n",
        "def plot_learning_curve(episode_rewards, episode_lengths):\n",
        "   plt.figure(figsize=(12, 5))\n",
        "   plt.subplot(1, 2, 1)\n",
        "   plt.plot(episode_rewards)\n",
        "   plt.title(\"Episode Rewards\")\n",
        "   plt.xlabel(\"Episode\")\n",
        "   plt.ylabel(\"Total Reward\")\n",
        "   plt.subplot(1, 2, 2)\n",
        "   plt.plot(episode_lengths)\n",
        "   plt.title(\"Episode Lengths\")\n",
        "   plt.xlabel(\"Episode\")\n",
        "   plt.ylabel(\"Number of Steps\")\n",
        "   plt.tight_layout()\n",
        "   plt.show()"
      ],
      "metadata": {
        "id": "Hg1W4nlAG8zO"
      },
      "execution_count": 114,
      "outputs": []
    },
    {
      "cell_type": "code",
      "source": [
        "# Creating the gif\n",
        "def create_gif(frames, filename, fps=5):\n",
        "   clip = ImageSequenceClip(frames, fps=fps)\n",
        "   clip.write_gif(filename, fps=fps)"
      ],
      "metadata": {
        "id": "4qW6sA3HLROl"
      },
      "execution_count": 115,
      "outputs": []
    },
    {
      "cell_type": "code",
      "source": [
        "# One episode run\n",
        "def run_episode(env, Q_table):\n",
        "   state, _ = env.reset()\n",
        "   done = False\n",
        "   total_reward = 0\n",
        "   frames = [env.render()]\n",
        "   while not done:\n",
        "       action = epsilon_greedy(env, Q_table, state, 0.1)\n",
        "       next_state, reward, terminated, truncated, _ = env.step(action)\n",
        "       done = terminated or truncated\n",
        "       frames.append(env.render())\n",
        "       total_reward += reward\n",
        "       state = next_state\n",
        "   return frames, total_reward"
      ],
      "metadata": {
        "id": "Xpt49i0pQVxI"
      },
      "execution_count": 116,
      "outputs": []
    },
    {
      "cell_type": "code",
      "source": [
        "# Execute\n",
        "if __name__ == \"__main__\":\n",
        "    env = create_environment()\n",
        "\n",
        "    Q_table, episode_rewards, episode_lengths = train_sarsa(env,n_episodes=20000)\n",
        "    plot_learning_curve(episode_rewards, episode_lengths)\n",
        "\n",
        "    frames, total_reward = run_episode(env, Q_table)\n",
        "    create_gif(frames, \"/content/sarsa images/sarsa_final_animation.gif\", fps=1)"
      ],
      "metadata": {
        "id": "bL53LkKbQyhL",
        "outputId": "9893a8d3-3a0f-4b31-aeab-489e5acbcb95",
        "colab": {
          "base_uri": "https://localhost:8080/",
          "height": 525
        }
      },
      "execution_count": 117,
      "outputs": [
        {
          "output_type": "display_data",
          "data": {
            "text/plain": [
              "<Figure size 1200x500 with 2 Axes>"
            ],
            "image/png": "[encoded data removed]"
          },
          "metadata": {}
        },
        {
          "output_type": "stream",
          "name": "stdout",
          "text": [
            "MoviePy - Building file /content/sarsa images/sarsa_final_animation.gif with imageio.\n"
          ]
        },
        {
          "output_type": "stream",
          "name": "stderr",
          "text": []
        }
      ]
    },
    {
      "cell_type": "markdown",
      "source": [
        "# Analysis of the rewards and lengths per episode\n",
        "\n",
        "Initially when the agent is exploring and learning the environment the rewards are low.\n",
        "Over time the rewards start to increase as the agent improve its policy and stabilize as the policy become better\n",
        "\n",
        "At the beginning in graph B, the episodes are longer (large number of steps) as the agent less optimized options, and as learning progresses the episode length starts to decrease until it stabilizes showing efficient learning."
      ],
      "metadata": {
        "id": "AYSmYoTpRLDE"
      }
    }
  ]
}